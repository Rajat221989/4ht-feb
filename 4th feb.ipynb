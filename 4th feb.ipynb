{
 "cells": [
  {
   "cell_type": "markdown",
   "id": "ea40dbba-9c9e-479a-8125-4b5ec0ad3312",
   "metadata": {},
   "source": [
    "# 4th feb assignment"
   ]
  },
  {
   "cell_type": "markdown",
   "id": "97b26a6b-728e-45c5-865a-9ac635150615",
   "metadata": {},
   "source": [
    "#Q1. Create a python program to sort the given list of tuples based on integer value using a\n",
    "lambda function.\n",
    "[('Sachin Tendulkar', 34357), ('Ricky Ponting', 27483), ('Jack Kallis', 25534), ('Virat Kohli', 24936)]"
   ]
  },
  {
   "cell_type": "code",
   "execution_count": 1,
   "id": "9c7fa852-0b20-4cdf-a4dd-3a86409f2ac2",
   "metadata": {},
   "outputs": [],
   "source": [
    "l=[('Sachin Tendulkar', 34357), ('Ricky Ponting', 27483), ('Jack Kallis', 25534), ('Virat Kohli', 24936)]"
   ]
  },
  {
   "cell_type": "code",
   "execution_count": 4,
   "id": "c1d0d867-785e-4f7b-9e98-74f99cfd0328",
   "metadata": {},
   "outputs": [
    {
     "data": {
      "text/plain": [
       "[('Virat Kohli', 24936),\n",
       " ('Jack Kallis', 25534),\n",
       " ('Ricky Ponting', 27483),\n",
       " ('Sachin Tendulkar', 34357)]"
      ]
     },
     "execution_count": 4,
     "metadata": {},
     "output_type": "execute_result"
    }
   ],
   "source": [
    "sorted(l,key=lambda x: x[1])"
   ]
  },
  {
   "cell_type": "markdown",
   "id": "72e9b69b-9cf3-4c11-91cb-7e07164eab3f",
   "metadata": {},
   "source": [
    "Q2. Write a Python Program to find the squares of all the numbers in the given list of integers using\n",
    "lambda and map functions.\n",
    "[1, 2, 3, 4, 5, 6, 7, 8, 9, 10]"
   ]
  },
  {
   "cell_type": "code",
   "execution_count": 5,
   "id": "85a303ea-4308-48c1-ab3d-06821cd4eb6d",
   "metadata": {},
   "outputs": [],
   "source": [
    "l= [1, 2, 3, 4, 5, 6, 7, 8, 9, 10]"
   ]
  },
  {
   "cell_type": "code",
   "execution_count": 6,
   "id": "a7169101-1de8-4599-813d-17707d8df6e6",
   "metadata": {},
   "outputs": [
    {
     "data": {
      "text/plain": [
       "[1, 4, 9, 16, 25, 36, 49, 64, 81, 100]"
      ]
     },
     "execution_count": 6,
     "metadata": {},
     "output_type": "execute_result"
    }
   ],
   "source": [
    "list(map(lambda l:l**2,l))"
   ]
  },
  {
   "cell_type": "markdown",
   "id": "2744ba81-1958-4119-a957-4beae9923a00",
   "metadata": {},
   "source": [
    "#Q3. Write a python program to convert the given list of integers into a tuple of strings. Use map and\n",
    "lambda functions\n",
    "Given String: [1, 2, 3, 4, 5, 6, 7, 8, 9, 10]\n",
    "Expected output: ('1', '2', '3', '4', '5', '6', '7', '8', '9', '10')"
   ]
  },
  {
   "cell_type": "code",
   "execution_count": 4,
   "id": "2c2f9498-8c90-4554-b51b-e1442d3749a9",
   "metadata": {},
   "outputs": [],
   "source": [
    "l= [1, 2, 3, 4, 5, 6, 7, 8, 9, 10]"
   ]
  },
  {
   "cell_type": "code",
   "execution_count": 26,
   "id": "9c033eab-11c8-4558-8de2-d9cc57abf586",
   "metadata": {},
   "outputs": [
    {
     "name": "stdout",
     "output_type": "stream",
     "text": [
      "([1], [2], [3], [4], [5], [6], [7], [8], [9], [10])\n"
     ]
    }
   ],
   "source": [
    "b=tuple(map(lambda l : [l], l))\n",
    "print (str(b))"
   ]
  },
  {
   "cell_type": "markdown",
   "id": "497209ff-b9c4-4894-bbf1-39ccac6e9b6a",
   "metadata": {},
   "source": [
    "#Q4. Write a python program using reduce function to compute the product of a list containing numbers\n",
    "from 1 to 25."
   ]
  },
  {
   "cell_type": "code",
   "execution_count": 28,
   "id": "7a51a405-c785-4487-9a22-a987b89323e0",
   "metadata": {},
   "outputs": [],
   "source": [
    "from functools import reduce"
   ]
  },
  {
   "cell_type": "code",
   "execution_count": 29,
   "id": "b980b0dc-d308-4c99-b953-d8f283b7f2ec",
   "metadata": {},
   "outputs": [
    {
     "name": "stdout",
     "output_type": "stream",
     "text": [
      "362880\n"
     ]
    }
   ],
   "source": [
    "def product(x,y):\n",
    "    return x*y\n",
    "\n",
    "P= reduce(product, [1,2,3,4,5,6,7,8,9])\n",
    "print(P)"
   ]
  },
  {
   "cell_type": "markdown",
   "id": "b45a2a48-7e49-43a2-be18-40f5fa5aaf2f",
   "metadata": {},
   "source": [
    "#Q5. Write a python program to filter the numbers in a given list that are divisible by 2 and 3 using the\n",
    "filter function."
   ]
  },
  {
   "cell_type": "code",
   "execution_count": 30,
   "id": "a88234a4-bac0-4a67-91db-5233982795fa",
   "metadata": {},
   "outputs": [],
   "source": [
    "l=[2, 3, 6, 9, 27, 60, 90, 120, 55, 46]"
   ]
  },
  {
   "cell_type": "code",
   "execution_count": 36,
   "id": "1c13fca7-2d25-4b68-96b6-be790abe5af9",
   "metadata": {},
   "outputs": [
    {
     "data": {
      "text/plain": [
       "[6, 60, 90, 120]"
      ]
     },
     "execution_count": 36,
     "metadata": {},
     "output_type": "execute_result"
    }
   ],
   "source": [
    "list(filter(lambda x: x% 2==0 and x% 3==0,l))"
   ]
  },
  {
   "cell_type": "markdown",
   "id": "e75c5ccc-a088-4ebf-85d9-7796b991e215",
   "metadata": {},
   "source": [
    "#Q6. Write a python program to find palindromes in the given list of strings using lambda and filter\n",
    "function.\n",
    "['python', 'php', 'aba', 'radar', 'level']"
   ]
  },
  {
   "cell_type": "code",
   "execution_count": 38,
   "id": "7cdaaa57-ef40-4683-bfd9-0ba5d20db1df",
   "metadata": {},
   "outputs": [],
   "source": [
    "s=['python', 'php', 'aba', 'radar', 'level']\n"
   ]
  },
  {
   "cell_type": "code",
   "execution_count": 41,
   "id": "92656de0-0151-435e-a977-34be5ce75f8f",
   "metadata": {},
   "outputs": [
    {
     "data": {
      "text/plain": [
       "['php', 'aba', 'radar', 'level']"
      ]
     },
     "execution_count": 41,
     "metadata": {},
     "output_type": "execute_result"
    }
   ],
   "source": [
    "list(filter(lambda x: x[::-1]==x,s))"
   ]
  },
  {
   "cell_type": "code",
   "execution_count": null,
   "id": "8f0d8e62-f3f4-433e-8ad6-e4eed78c429d",
   "metadata": {},
   "outputs": [],
   "source": []
  }
 ],
 "metadata": {
  "kernelspec": {
   "display_name": "Python 3 (ipykernel)",
   "language": "python",
   "name": "python3"
  },
  "language_info": {
   "codemirror_mode": {
    "name": "ipython",
    "version": 3
   },
   "file_extension": ".py",
   "mimetype": "text/x-python",
   "name": "python",
   "nbconvert_exporter": "python",
   "pygments_lexer": "ipython3",
   "version": "3.10.8"
  }
 },
 "nbformat": 4,
 "nbformat_minor": 5
}
